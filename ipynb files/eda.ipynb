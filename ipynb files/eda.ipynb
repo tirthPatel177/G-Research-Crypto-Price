{
 "cells": [
  {
   "cell_type": "code",
   "execution_count": 1,
   "id": "89e293f3",
   "metadata": {},
   "outputs": [],
   "source": [
    "import pandas as pd\n",
    "import numpy as np"
   ]
  },
  {
   "cell_type": "code",
   "execution_count": 2,
   "id": "43bdeccd",
   "metadata": {},
   "outputs": [],
   "source": [
    "df = pd.read_csv(\"./../g-research-crypto-forecasting/supplemental_train.csv\")"
   ]
  },
  {
   "cell_type": "code",
   "execution_count": 3,
   "id": "9c3bd598",
   "metadata": {},
   "outputs": [
    {
     "data": {
      "text/html": [
       "<div>\n",
       "<style scoped>\n",
       "    .dataframe tbody tr th:only-of-type {\n",
       "        vertical-align: middle;\n",
       "    }\n",
       "\n",
       "    .dataframe tbody tr th {\n",
       "        vertical-align: top;\n",
       "    }\n",
       "\n",
       "    .dataframe thead th {\n",
       "        text-align: right;\n",
       "    }\n",
       "</style>\n",
       "<table border=\"1\" class=\"dataframe\">\n",
       "  <thead>\n",
       "    <tr style=\"text-align: right;\">\n",
       "      <th></th>\n",
       "      <th>timestamp</th>\n",
       "      <th>Asset_ID</th>\n",
       "      <th>Count</th>\n",
       "      <th>Open</th>\n",
       "      <th>High</th>\n",
       "      <th>Low</th>\n",
       "      <th>Close</th>\n",
       "      <th>Volume</th>\n",
       "      <th>VWAP</th>\n",
       "      <th>Target</th>\n",
       "    </tr>\n",
       "  </thead>\n",
       "  <tbody>\n",
       "    <tr>\n",
       "      <th>0</th>\n",
       "      <td>1632182460</td>\n",
       "      <td>3</td>\n",
       "      <td>561.0</td>\n",
       "      <td>2.079028</td>\n",
       "      <td>2.080605</td>\n",
       "      <td>2.0720</td>\n",
       "      <td>2.076458</td>\n",
       "      <td>2.804627e+05</td>\n",
       "      <td>2.075869</td>\n",
       "      <td>0.003085</td>\n",
       "    </tr>\n",
       "    <tr>\n",
       "      <th>1</th>\n",
       "      <td>1632182460</td>\n",
       "      <td>2</td>\n",
       "      <td>169.0</td>\n",
       "      <td>541.006000</td>\n",
       "      <td>541.200000</td>\n",
       "      <td>539.7000</td>\n",
       "      <td>540.722000</td>\n",
       "      <td>1.889432e+02</td>\n",
       "      <td>540.716930</td>\n",
       "      <td>-0.000607</td>\n",
       "    </tr>\n",
       "    <tr>\n",
       "      <th>2</th>\n",
       "      <td>1632182460</td>\n",
       "      <td>0</td>\n",
       "      <td>400.0</td>\n",
       "      <td>363.737500</td>\n",
       "      <td>363.900000</td>\n",
       "      <td>363.0000</td>\n",
       "      <td>363.654000</td>\n",
       "      <td>8.792685e+02</td>\n",
       "      <td>363.499554</td>\n",
       "      <td>-0.019375</td>\n",
       "    </tr>\n",
       "    <tr>\n",
       "      <th>3</th>\n",
       "      <td>1632182460</td>\n",
       "      <td>1</td>\n",
       "      <td>1933.0</td>\n",
       "      <td>42986.143333</td>\n",
       "      <td>43001.000000</td>\n",
       "      <td>42898.0000</td>\n",
       "      <td>42947.065566</td>\n",
       "      <td>9.183861e+01</td>\n",
       "      <td>42942.976718</td>\n",
       "      <td>-0.000374</td>\n",
       "    </tr>\n",
       "    <tr>\n",
       "      <th>4</th>\n",
       "      <td>1632182460</td>\n",
       "      <td>4</td>\n",
       "      <td>348.0</td>\n",
       "      <td>0.208326</td>\n",
       "      <td>0.208400</td>\n",
       "      <td>0.2078</td>\n",
       "      <td>0.208200</td>\n",
       "      <td>1.051337e+06</td>\n",
       "      <td>0.208077</td>\n",
       "      <td>-0.001233</td>\n",
       "    </tr>\n",
       "  </tbody>\n",
       "</table>\n",
       "</div>"
      ],
      "text/plain": [
       "    timestamp  Asset_ID   Count          Open          High         Low  \\\n",
       "0  1632182460         3   561.0      2.079028      2.080605      2.0720   \n",
       "1  1632182460         2   169.0    541.006000    541.200000    539.7000   \n",
       "2  1632182460         0   400.0    363.737500    363.900000    363.0000   \n",
       "3  1632182460         1  1933.0  42986.143333  43001.000000  42898.0000   \n",
       "4  1632182460         4   348.0      0.208326      0.208400      0.2078   \n",
       "\n",
       "          Close        Volume          VWAP    Target  \n",
       "0      2.076458  2.804627e+05      2.075869  0.003085  \n",
       "1    540.722000  1.889432e+02    540.716930 -0.000607  \n",
       "2    363.654000  8.792685e+02    363.499554 -0.019375  \n",
       "3  42947.065566  9.183861e+01  42942.976718 -0.000374  \n",
       "4      0.208200  1.051337e+06      0.208077 -0.001233  "
      ]
     },
     "execution_count": 3,
     "metadata": {},
     "output_type": "execute_result"
    }
   ],
   "source": [
    "df.head()"
   ]
  },
  {
   "cell_type": "code",
   "execution_count": 4,
   "id": "045cbcc1",
   "metadata": {},
   "outputs": [
    {
     "data": {
      "text/plain": [
       "22364940"
      ]
     },
     "execution_count": 4,
     "metadata": {},
     "output_type": "execute_result"
    }
   ],
   "source": [
    "df.size"
   ]
  },
  {
   "cell_type": "code",
   "execution_count": 5,
   "id": "6f1e7392",
   "metadata": {},
   "outputs": [
    {
     "data": {
      "text/html": [
       "<div>\n",
       "<style scoped>\n",
       "    .dataframe tbody tr th:only-of-type {\n",
       "        vertical-align: middle;\n",
       "    }\n",
       "\n",
       "    .dataframe tbody tr th {\n",
       "        vertical-align: top;\n",
       "    }\n",
       "\n",
       "    .dataframe thead th {\n",
       "        text-align: right;\n",
       "    }\n",
       "</style>\n",
       "<table border=\"1\" class=\"dataframe\">\n",
       "  <thead>\n",
       "    <tr style=\"text-align: right;\">\n",
       "      <th></th>\n",
       "      <th>timestamp</th>\n",
       "      <th>Asset_ID</th>\n",
       "      <th>Count</th>\n",
       "      <th>Open</th>\n",
       "      <th>High</th>\n",
       "      <th>Low</th>\n",
       "      <th>Close</th>\n",
       "      <th>Volume</th>\n",
       "      <th>VWAP</th>\n",
       "      <th>Target</th>\n",
       "    </tr>\n",
       "  </thead>\n",
       "  <tbody>\n",
       "    <tr>\n",
       "      <th>count</th>\n",
       "      <td>2.236494e+06</td>\n",
       "      <td>2.236494e+06</td>\n",
       "      <td>2.236494e+06</td>\n",
       "      <td>2.236494e+06</td>\n",
       "      <td>2.236494e+06</td>\n",
       "      <td>2.236494e+06</td>\n",
       "      <td>2.236494e+06</td>\n",
       "      <td>2.236494e+06</td>\n",
       "      <td>2.236494e+06</td>\n",
       "      <td>2.234426e+06</td>\n",
       "    </tr>\n",
       "    <tr>\n",
       "      <th>mean</th>\n",
       "      <td>1.636977e+09</td>\n",
       "      <td>6.498849e+00</td>\n",
       "      <td>4.700188e+02</td>\n",
       "      <td>4.421508e+03</td>\n",
       "      <td>4.425608e+03</td>\n",
       "      <td>4.416905e+03</td>\n",
       "      <td>4.421509e+03</td>\n",
       "      <td>3.555324e+05</td>\n",
       "      <td>4.421460e+03</td>\n",
       "      <td>5.867916e-06</td>\n",
       "    </tr>\n",
       "    <tr>\n",
       "      <th>std</th>\n",
       "      <td>2.768257e+06</td>\n",
       "      <td>4.031089e+00</td>\n",
       "      <td>1.007096e+03</td>\n",
       "      <td>1.388477e+04</td>\n",
       "      <td>1.389730e+04</td>\n",
       "      <td>1.387052e+04</td>\n",
       "      <td>1.388477e+04</td>\n",
       "      <td>1.614089e+06</td>\n",
       "      <td>1.388461e+04</td>\n",
       "      <td>4.624160e-03</td>\n",
       "    </tr>\n",
       "    <tr>\n",
       "      <th>min</th>\n",
       "      <td>1.632182e+09</td>\n",
       "      <td>0.000000e+00</td>\n",
       "      <td>1.000000e+00</td>\n",
       "      <td>6.404500e-02</td>\n",
       "      <td>6.411000e-02</td>\n",
       "      <td>2.769000e-02</td>\n",
       "      <td>6.405591e-02</td>\n",
       "      <td>1.000000e-06</td>\n",
       "      <td>6.405021e-02</td>\n",
       "      <td>-1.514222e-01</td>\n",
       "    </tr>\n",
       "    <tr>\n",
       "      <th>25%</th>\n",
       "      <td>1.634581e+09</td>\n",
       "      <td>3.000000e+00</td>\n",
       "      <td>6.200000e+01</td>\n",
       "      <td>1.244750e+00</td>\n",
       "      <td>1.280000e+00</td>\n",
       "      <td>1.212400e+00</td>\n",
       "      <td>1.244700e+00</td>\n",
       "      <td>1.114632e+02</td>\n",
       "      <td>1.244717e+00</td>\n",
       "      <td>-1.251788e-03</td>\n",
       "    </tr>\n",
       "    <tr>\n",
       "      <th>50%</th>\n",
       "      <td>1.636977e+09</td>\n",
       "      <td>6.000000e+00</td>\n",
       "      <td>1.850000e+02</td>\n",
       "      <td>6.294104e+01</td>\n",
       "      <td>6.310275e+01</td>\n",
       "      <td>6.279000e+01</td>\n",
       "      <td>6.293099e+01</td>\n",
       "      <td>1.029258e+03</td>\n",
       "      <td>6.293196e+01</td>\n",
       "      <td>-5.350827e-05</td>\n",
       "    </tr>\n",
       "    <tr>\n",
       "      <th>75%</th>\n",
       "      <td>1.639374e+09</td>\n",
       "      <td>1.000000e+01</td>\n",
       "      <td>4.640000e+02</td>\n",
       "      <td>5.925705e+02</td>\n",
       "      <td>5.930657e+02</td>\n",
       "      <td>5.920100e+02</td>\n",
       "      <td>5.925629e+02</td>\n",
       "      <td>9.512762e+04</td>\n",
       "      <td>5.925576e+02</td>\n",
       "      <td>1.153818e-03</td>\n",
       "    </tr>\n",
       "    <tr>\n",
       "      <th>max</th>\n",
       "      <td>1.641773e+09</td>\n",
       "      <td>1.300000e+01</td>\n",
       "      <td>7.691500e+04</td>\n",
       "      <td>6.898612e+04</td>\n",
       "      <td>6.902420e+04</td>\n",
       "      <td>6.873400e+04</td>\n",
       "      <td>6.897356e+04</td>\n",
       "      <td>2.435599e+08</td>\n",
       "      <td>6.889405e+04</td>\n",
       "      <td>2.202029e-01</td>\n",
       "    </tr>\n",
       "  </tbody>\n",
       "</table>\n",
       "</div>"
      ],
      "text/plain": [
       "          timestamp      Asset_ID         Count          Open          High  \\\n",
       "count  2.236494e+06  2.236494e+06  2.236494e+06  2.236494e+06  2.236494e+06   \n",
       "mean   1.636977e+09  6.498849e+00  4.700188e+02  4.421508e+03  4.425608e+03   \n",
       "std    2.768257e+06  4.031089e+00  1.007096e+03  1.388477e+04  1.389730e+04   \n",
       "min    1.632182e+09  0.000000e+00  1.000000e+00  6.404500e-02  6.411000e-02   \n",
       "25%    1.634581e+09  3.000000e+00  6.200000e+01  1.244750e+00  1.280000e+00   \n",
       "50%    1.636977e+09  6.000000e+00  1.850000e+02  6.294104e+01  6.310275e+01   \n",
       "75%    1.639374e+09  1.000000e+01  4.640000e+02  5.925705e+02  5.930657e+02   \n",
       "max    1.641773e+09  1.300000e+01  7.691500e+04  6.898612e+04  6.902420e+04   \n",
       "\n",
       "                Low         Close        Volume          VWAP        Target  \n",
       "count  2.236494e+06  2.236494e+06  2.236494e+06  2.236494e+06  2.234426e+06  \n",
       "mean   4.416905e+03  4.421509e+03  3.555324e+05  4.421460e+03  5.867916e-06  \n",
       "std    1.387052e+04  1.388477e+04  1.614089e+06  1.388461e+04  4.624160e-03  \n",
       "min    2.769000e-02  6.405591e-02  1.000000e-06  6.405021e-02 -1.514222e-01  \n",
       "25%    1.212400e+00  1.244700e+00  1.114632e+02  1.244717e+00 -1.251788e-03  \n",
       "50%    6.279000e+01  6.293099e+01  1.029258e+03  6.293196e+01 -5.350827e-05  \n",
       "75%    5.920100e+02  5.925629e+02  9.512762e+04  5.925576e+02  1.153818e-03  \n",
       "max    6.873400e+04  6.897356e+04  2.435599e+08  6.889405e+04  2.202029e-01  "
      ]
     },
     "execution_count": 5,
     "metadata": {},
     "output_type": "execute_result"
    }
   ],
   "source": [
    "df.describe()"
   ]
  },
  {
   "cell_type": "code",
   "execution_count": 6,
   "id": "4d1b20d3",
   "metadata": {},
   "outputs": [
    {
     "data": {
      "text/plain": [
       "timestamp    2068\n",
       "Asset_ID     2068\n",
       "Count        2068\n",
       "Open         2068\n",
       "High         2068\n",
       "Low          2068\n",
       "Close        2068\n",
       "Volume       2068\n",
       "VWAP         2068\n",
       "Target          0\n",
       "dtype: int64"
      ]
     },
     "execution_count": 6,
     "metadata": {},
     "output_type": "execute_result"
    }
   ],
   "source": [
    "df[df.Target.isnull()==True].count()"
   ]
  },
  {
   "cell_type": "code",
   "execution_count": 7,
   "id": "c3458522",
   "metadata": {},
   "outputs": [],
   "source": [
    "df = df.dropna()"
   ]
  },
  {
   "cell_type": "code",
   "execution_count": 8,
   "id": "3179e4c6",
   "metadata": {},
   "outputs": [
    {
     "data": {
      "text/plain": [
       "timestamp    0\n",
       "Asset_ID     0\n",
       "Count        0\n",
       "Open         0\n",
       "High         0\n",
       "Low          0\n",
       "Close        0\n",
       "Volume       0\n",
       "VWAP         0\n",
       "Target       0\n",
       "dtype: int64"
      ]
     },
     "execution_count": 8,
     "metadata": {},
     "output_type": "execute_result"
    }
   ],
   "source": [
    "df[df.Target.isnull()==True].count()"
   ]
  },
  {
   "cell_type": "code",
   "execution_count": 9,
   "id": "c08615e7",
   "metadata": {},
   "outputs": [
    {
     "data": {
      "text/plain": [
       "timestamp    False\n",
       "Asset_ID     False\n",
       "Count        False\n",
       "Open         False\n",
       "High         False\n",
       "Low          False\n",
       "Close        False\n",
       "Volume       False\n",
       "VWAP         False\n",
       "Target       False\n",
       "dtype: bool"
      ]
     },
     "execution_count": 9,
     "metadata": {},
     "output_type": "execute_result"
    }
   ],
   "source": [
    "df.isnull().any()"
   ]
  },
  {
   "cell_type": "code",
   "execution_count": null,
   "id": "41bde8bc",
   "metadata": {},
   "outputs": [],
   "source": []
  },
  {
   "cell_type": "code",
   "execution_count": null,
   "id": "8be4ffbf",
   "metadata": {},
   "outputs": [],
   "source": []
  }
 ],
 "metadata": {
  "kernelspec": {
   "display_name": "Python 3 (ipykernel)",
   "language": "python",
   "name": "python3"
  },
  "language_info": {
   "codemirror_mode": {
    "name": "ipython",
    "version": 3
   },
   "file_extension": ".py",
   "mimetype": "text/x-python",
   "name": "python",
   "nbconvert_exporter": "python",
   "pygments_lexer": "ipython3",
   "version": "3.10.2"
  }
 },
 "nbformat": 4,
 "nbformat_minor": 5
}
