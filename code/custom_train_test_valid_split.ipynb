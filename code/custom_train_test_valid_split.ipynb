{
 "cells": [
  {
   "cell_type": "code",
   "execution_count": 1,
   "id": "7f135930",
   "metadata": {
    "_cell_guid": "b1076dfc-b9ad-4769-8c92-a6c4dae69d19",
    "_uuid": "8f2839f25d086af736a60e9eeb907d3b93b6e0e5",
    "execution": {
     "iopub.execute_input": "2022-04-23T08:09:27.290669Z",
     "iopub.status.busy": "2022-04-23T08:09:27.287874Z",
     "iopub.status.idle": "2022-04-23T08:09:27.299813Z",
     "shell.execute_reply": "2022-04-23T08:09:27.299119Z"
    },
    "papermill": {
     "duration": 0.027322,
     "end_time": "2022-04-23T08:09:27.301947",
     "exception": false,
     "start_time": "2022-04-23T08:09:27.274625",
     "status": "completed"
    },
    "tags": []
   },
   "outputs": [],
   "source": [
    "from datetime import datetime\n",
    "\n",
    "import numpy as np \n",
    "import pandas as pd "
   ]
  },
  {
   "cell_type": "code",
   "execution_count": 2,
   "id": "4c3f5cd0",
   "metadata": {
    "execution": {
     "iopub.execute_input": "2022-04-23T08:09:27.325898Z",
     "iopub.status.busy": "2022-04-23T08:09:27.325323Z",
     "iopub.status.idle": "2022-04-23T08:09:27.329007Z",
     "shell.execute_reply": "2022-04-23T08:09:27.328428Z"
    },
    "papermill": {
     "duration": 0.018229,
     "end_time": "2022-04-23T08:09:27.330931",
     "exception": false,
     "start_time": "2022-04-23T08:09:27.312702",
     "status": "completed"
    },
    "tags": []
   },
   "outputs": [],
   "source": [
    "data_folder = '../input/time-series-crypto-forecasting/'"
   ]
  },
  {
   "cell_type": "code",
   "execution_count": 3,
   "id": "26ef1e35",
   "metadata": {
    "execution": {
     "iopub.execute_input": "2022-04-23T08:09:27.354121Z",
     "iopub.status.busy": "2022-04-23T08:09:27.353638Z",
     "iopub.status.idle": "2022-04-23T08:09:27.357793Z",
     "shell.execute_reply": "2022-04-23T08:09:27.357166Z"
    },
    "papermill": {
     "duration": 0.018323,
     "end_time": "2022-04-23T08:09:27.359757",
     "exception": false,
     "start_time": "2022-04-23T08:09:27.341434",
     "status": "completed"
    },
    "tags": []
   },
   "outputs": [],
   "source": [
    "train_path = data_folder + 'train.csv'\n",
    "asset_path = data_folder + 'asset_details.csv'\n",
    "example_test_path = data_folder + 'example_test.csv'\n",
    "supplemental_train_path = data_folder + 'supplemental_train.csv'"
   ]
  },
  {
   "cell_type": "code",
   "execution_count": 4,
   "id": "2b3b83ee",
   "metadata": {
    "execution": {
     "iopub.execute_input": "2022-04-23T08:09:27.382705Z",
     "iopub.status.busy": "2022-04-23T08:09:27.382279Z",
     "iopub.status.idle": "2022-04-23T08:10:34.763201Z",
     "shell.execute_reply": "2022-04-23T08:10:34.762308Z"
    },
    "papermill": {
     "duration": 67.406406,
     "end_time": "2022-04-23T08:10:34.776653",
     "exception": false,
     "start_time": "2022-04-23T08:09:27.370247",
     "status": "completed"
    },
    "tags": []
   },
   "outputs": [
    {
     "data": {
      "text/html": [
       "<div>\n",
       "<style scoped>\n",
       "    .dataframe tbody tr th:only-of-type {\n",
       "        vertical-align: middle;\n",
       "    }\n",
       "\n",
       "    .dataframe tbody tr th {\n",
       "        vertical-align: top;\n",
       "    }\n",
       "\n",
       "    .dataframe thead th {\n",
       "        text-align: right;\n",
       "    }\n",
       "</style>\n",
       "<table border=\"1\" class=\"dataframe\">\n",
       "  <thead>\n",
       "    <tr style=\"text-align: right;\">\n",
       "      <th></th>\n",
       "      <th>timestamp</th>\n",
       "      <th>Asset_ID</th>\n",
       "      <th>Count</th>\n",
       "      <th>Open</th>\n",
       "      <th>High</th>\n",
       "      <th>Low</th>\n",
       "      <th>Close</th>\n",
       "      <th>Volume</th>\n",
       "      <th>VWAP</th>\n",
       "      <th>Target</th>\n",
       "    </tr>\n",
       "  </thead>\n",
       "  <tbody>\n",
       "    <tr>\n",
       "      <th>0</th>\n",
       "      <td>1514764860</td>\n",
       "      <td>2</td>\n",
       "      <td>40.0</td>\n",
       "      <td>2376.5800</td>\n",
       "      <td>2399.5000</td>\n",
       "      <td>2357.1400</td>\n",
       "      <td>2374.5900</td>\n",
       "      <td>19.233005</td>\n",
       "      <td>2373.116392</td>\n",
       "      <td>-0.004218</td>\n",
       "    </tr>\n",
       "    <tr>\n",
       "      <th>1</th>\n",
       "      <td>1514764860</td>\n",
       "      <td>0</td>\n",
       "      <td>5.0</td>\n",
       "      <td>8.5300</td>\n",
       "      <td>8.5300</td>\n",
       "      <td>8.5300</td>\n",
       "      <td>8.5300</td>\n",
       "      <td>78.380000</td>\n",
       "      <td>8.530000</td>\n",
       "      <td>-0.014399</td>\n",
       "    </tr>\n",
       "    <tr>\n",
       "      <th>2</th>\n",
       "      <td>1514764860</td>\n",
       "      <td>1</td>\n",
       "      <td>229.0</td>\n",
       "      <td>13835.1940</td>\n",
       "      <td>14013.8000</td>\n",
       "      <td>13666.1100</td>\n",
       "      <td>13850.1760</td>\n",
       "      <td>31.550062</td>\n",
       "      <td>13827.062093</td>\n",
       "      <td>-0.014643</td>\n",
       "    </tr>\n",
       "    <tr>\n",
       "      <th>3</th>\n",
       "      <td>1514764860</td>\n",
       "      <td>5</td>\n",
       "      <td>32.0</td>\n",
       "      <td>7.6596</td>\n",
       "      <td>7.6596</td>\n",
       "      <td>7.6567</td>\n",
       "      <td>7.6576</td>\n",
       "      <td>6626.713370</td>\n",
       "      <td>7.657713</td>\n",
       "      <td>-0.013922</td>\n",
       "    </tr>\n",
       "    <tr>\n",
       "      <th>4</th>\n",
       "      <td>1514764860</td>\n",
       "      <td>7</td>\n",
       "      <td>5.0</td>\n",
       "      <td>25.9200</td>\n",
       "      <td>25.9200</td>\n",
       "      <td>25.8740</td>\n",
       "      <td>25.8770</td>\n",
       "      <td>121.087310</td>\n",
       "      <td>25.891363</td>\n",
       "      <td>-0.008264</td>\n",
       "    </tr>\n",
       "  </tbody>\n",
       "</table>\n",
       "</div>"
      ],
      "text/plain": [
       "    timestamp  Asset_ID  Count        Open        High         Low  \\\n",
       "0  1514764860         2   40.0   2376.5800   2399.5000   2357.1400   \n",
       "1  1514764860         0    5.0      8.5300      8.5300      8.5300   \n",
       "2  1514764860         1  229.0  13835.1940  14013.8000  13666.1100   \n",
       "3  1514764860         5   32.0      7.6596      7.6596      7.6567   \n",
       "4  1514764860         7    5.0     25.9200     25.9200     25.8740   \n",
       "\n",
       "        Close       Volume          VWAP    Target  \n",
       "0   2374.5900    19.233005   2373.116392 -0.004218  \n",
       "1      8.5300    78.380000      8.530000 -0.014399  \n",
       "2  13850.1760    31.550062  13827.062093 -0.014643  \n",
       "3      7.6576  6626.713370      7.657713 -0.013922  \n",
       "4     25.8770   121.087310     25.891363 -0.008264  "
      ]
     },
     "execution_count": 4,
     "metadata": {},
     "output_type": "execute_result"
    }
   ],
   "source": [
    "df_train_original = pd.read_csv(train_path)\n",
    "df_train_original.head()"
   ]
  },
  {
   "cell_type": "code",
   "execution_count": 5,
   "id": "e107aa8a",
   "metadata": {
    "execution": {
     "iopub.execute_input": "2022-04-23T08:10:34.800781Z",
     "iopub.status.busy": "2022-04-23T08:10:34.800504Z",
     "iopub.status.idle": "2022-04-23T08:10:34.805971Z",
     "shell.execute_reply": "2022-04-23T08:10:34.805140Z"
    },
    "papermill": {
     "duration": 0.020381,
     "end_time": "2022-04-23T08:10:34.807891",
     "exception": false,
     "start_time": "2022-04-23T08:10:34.787510",
     "status": "completed"
    },
    "tags": []
   },
   "outputs": [
    {
     "data": {
      "text/plain": [
       "24236806"
      ]
     },
     "execution_count": 5,
     "metadata": {},
     "output_type": "execute_result"
    }
   ],
   "source": [
    "df_train_original.shape[0]"
   ]
  },
  {
   "cell_type": "code",
   "execution_count": 6,
   "id": "f3a187dd",
   "metadata": {
    "execution": {
     "iopub.execute_input": "2022-04-23T08:10:34.833174Z",
     "iopub.status.busy": "2022-04-23T08:10:34.832890Z",
     "iopub.status.idle": "2022-04-23T08:10:34.847851Z",
     "shell.execute_reply": "2022-04-23T08:10:34.847010Z"
    },
    "papermill": {
     "duration": 0.030261,
     "end_time": "2022-04-23T08:10:34.850298",
     "exception": false,
     "start_time": "2022-04-23T08:10:34.820037",
     "status": "completed"
    },
    "tags": []
   },
   "outputs": [
    {
     "data": {
      "text/html": [
       "<div>\n",
       "<style scoped>\n",
       "    .dataframe tbody tr th:only-of-type {\n",
       "        vertical-align: middle;\n",
       "    }\n",
       "\n",
       "    .dataframe tbody tr th {\n",
       "        vertical-align: top;\n",
       "    }\n",
       "\n",
       "    .dataframe thead th {\n",
       "        text-align: right;\n",
       "    }\n",
       "</style>\n",
       "<table border=\"1\" class=\"dataframe\">\n",
       "  <thead>\n",
       "    <tr style=\"text-align: right;\">\n",
       "      <th></th>\n",
       "      <th>timestamp</th>\n",
       "      <th>Asset_ID</th>\n",
       "      <th>Count</th>\n",
       "      <th>Open</th>\n",
       "      <th>High</th>\n",
       "      <th>Low</th>\n",
       "      <th>Close</th>\n",
       "      <th>Volume</th>\n",
       "      <th>VWAP</th>\n",
       "      <th>Target</th>\n",
       "    </tr>\n",
       "  </thead>\n",
       "  <tbody>\n",
       "    <tr>\n",
       "      <th>24236801</th>\n",
       "      <td>1632182400</td>\n",
       "      <td>9</td>\n",
       "      <td>775.0</td>\n",
       "      <td>157.181571</td>\n",
       "      <td>157.250000</td>\n",
       "      <td>156.700000</td>\n",
       "      <td>156.943857</td>\n",
       "      <td>4.663725e+03</td>\n",
       "      <td>156.994319</td>\n",
       "      <td>NaN</td>\n",
       "    </tr>\n",
       "    <tr>\n",
       "      <th>24236802</th>\n",
       "      <td>1632182400</td>\n",
       "      <td>10</td>\n",
       "      <td>34.0</td>\n",
       "      <td>2437.065067</td>\n",
       "      <td>2438.000000</td>\n",
       "      <td>2430.226900</td>\n",
       "      <td>2432.907467</td>\n",
       "      <td>3.975460e+00</td>\n",
       "      <td>2434.818747</td>\n",
       "      <td>NaN</td>\n",
       "    </tr>\n",
       "    <tr>\n",
       "      <th>24236803</th>\n",
       "      <td>1632182400</td>\n",
       "      <td>13</td>\n",
       "      <td>380.0</td>\n",
       "      <td>0.091390</td>\n",
       "      <td>0.091527</td>\n",
       "      <td>0.091260</td>\n",
       "      <td>0.091349</td>\n",
       "      <td>2.193732e+06</td>\n",
       "      <td>0.091388</td>\n",
       "      <td>NaN</td>\n",
       "    </tr>\n",
       "    <tr>\n",
       "      <th>24236804</th>\n",
       "      <td>1632182400</td>\n",
       "      <td>12</td>\n",
       "      <td>177.0</td>\n",
       "      <td>0.282168</td>\n",
       "      <td>0.282438</td>\n",
       "      <td>0.281842</td>\n",
       "      <td>0.282051</td>\n",
       "      <td>1.828508e+05</td>\n",
       "      <td>0.282134</td>\n",
       "      <td>NaN</td>\n",
       "    </tr>\n",
       "    <tr>\n",
       "      <th>24236805</th>\n",
       "      <td>1632182400</td>\n",
       "      <td>11</td>\n",
       "      <td>48.0</td>\n",
       "      <td>232.695000</td>\n",
       "      <td>232.800000</td>\n",
       "      <td>232.240000</td>\n",
       "      <td>232.275000</td>\n",
       "      <td>1.035123e+02</td>\n",
       "      <td>232.569697</td>\n",
       "      <td>NaN</td>\n",
       "    </tr>\n",
       "  </tbody>\n",
       "</table>\n",
       "</div>"
      ],
      "text/plain": [
       "           timestamp  Asset_ID  Count         Open         High          Low  \\\n",
       "24236801  1632182400         9  775.0   157.181571   157.250000   156.700000   \n",
       "24236802  1632182400        10   34.0  2437.065067  2438.000000  2430.226900   \n",
       "24236803  1632182400        13  380.0     0.091390     0.091527     0.091260   \n",
       "24236804  1632182400        12  177.0     0.282168     0.282438     0.281842   \n",
       "24236805  1632182400        11   48.0   232.695000   232.800000   232.240000   \n",
       "\n",
       "                Close        Volume         VWAP  Target  \n",
       "24236801   156.943857  4.663725e+03   156.994319     NaN  \n",
       "24236802  2432.907467  3.975460e+00  2434.818747     NaN  \n",
       "24236803     0.091349  2.193732e+06     0.091388     NaN  \n",
       "24236804     0.282051  1.828508e+05     0.282134     NaN  \n",
       "24236805   232.275000  1.035123e+02   232.569697     NaN  "
      ]
     },
     "execution_count": 6,
     "metadata": {},
     "output_type": "execute_result"
    }
   ],
   "source": [
    "df_train_original.tail()"
   ]
  },
  {
   "cell_type": "code",
   "execution_count": 7,
   "id": "49788d79",
   "metadata": {
    "execution": {
     "iopub.execute_input": "2022-04-23T08:10:34.876756Z",
     "iopub.status.busy": "2022-04-23T08:10:34.875855Z",
     "iopub.status.idle": "2022-04-23T08:10:36.234802Z",
     "shell.execute_reply": "2022-04-23T08:10:36.233940Z"
    },
    "papermill": {
     "duration": 1.374712,
     "end_time": "2022-04-23T08:10:36.237230",
     "exception": false,
     "start_time": "2022-04-23T08:10:34.862518",
     "status": "completed"
    },
    "tags": []
   },
   "outputs": [
    {
     "name": "stdout",
     "output_type": "stream",
     "text": [
      "Bitcoin data goes from  Monday, January 01, 2018 12:01:00  to  Tuesday, September 21, 2021 12:00:00\n",
      "Ethereum data goes from  Monday, January 01, 2018 12:01:00  to  Tuesday, September 21, 2021 12:00:00\n",
      "Binance coin data goes from  Monday, January 01, 2018 12:01:00  to  Tuesday, September 21, 2021 12:00:00\n",
      "Cardano data goes from  Monday, January 01, 2018 12:01:00  to  Tuesday, September 21, 2021 12:00:00\n"
     ]
    }
   ],
   "source": [
    "## Checking Time Range\n",
    "btc = df_train_original[df_train_original[\"Asset_ID\"]==1].set_index(\"timestamp\") # Asset_ID = 1 for Bitcoin\n",
    "eth = df_train_original[df_train_original[\"Asset_ID\"]==6].set_index(\"timestamp\") # Asset_ID = 6 for Ethereum\n",
    "bnb = df_train_original[df_train_original[\"Asset_ID\"]==0].set_index(\"timestamp\") # Asset_ID = 0 for Binance Coin\n",
    "ada = df_train_original[df_train_original[\"Asset_ID\"]==3].set_index(\"timestamp\") # Asset_ID = 3 for Cardano\n",
    "\n",
    "beg_btc = datetime.fromtimestamp(btc.index[0]).strftime(\"%A, %B %d, %Y %I:%M:%S\") \n",
    "end_btc = datetime.fromtimestamp(btc.index[-1]).strftime(\"%A, %B %d, %Y %I:%M:%S\") \n",
    "beg_eth = datetime.fromtimestamp(eth.index[0]).strftime(\"%A, %B %d, %Y %I:%M:%S\") \n",
    "end_eth = datetime.fromtimestamp(eth.index[-1]).strftime(\"%A, %B %d, %Y %I:%M:%S\")\n",
    "beg_bnb = datetime.fromtimestamp(eth.index[0]).strftime(\"%A, %B %d, %Y %I:%M:%S\") \n",
    "end_bnb = datetime.fromtimestamp(eth.index[-1]).strftime(\"%A, %B %d, %Y %I:%M:%S\")\n",
    "beg_ada = datetime.fromtimestamp(eth.index[0]).strftime(\"%A, %B %d, %Y %I:%M:%S\") \n",
    "end_ada = datetime.fromtimestamp(eth.index[-1]).strftime(\"%A, %B %d, %Y %I:%M:%S\")\n",
    "\n",
    "print('Bitcoin data goes from ', beg_btc, ' to ', end_btc) \n",
    "print('Ethereum data goes from ', beg_eth, ' to ', end_eth)\n",
    "print('Binance coin data goes from ', beg_bnb, ' to ', end_bnb) \n",
    "print('Cardano data goes from ', beg_ada, ' to ', end_ada)"
   ]
  },
  {
   "cell_type": "code",
   "execution_count": 8,
   "id": "0a18a00f",
   "metadata": {
    "execution": {
     "iopub.execute_input": "2022-04-23T08:10:36.264146Z",
     "iopub.status.busy": "2022-04-23T08:10:36.263892Z",
     "iopub.status.idle": "2022-04-23T08:10:36.272825Z",
     "shell.execute_reply": "2022-04-23T08:10:36.271977Z"
    },
    "papermill": {
     "duration": 0.024912,
     "end_time": "2022-04-23T08:10:36.275011",
     "exception": false,
     "start_time": "2022-04-23T08:10:36.250099",
     "status": "completed"
    },
    "tags": []
   },
   "outputs": [
    {
     "data": {
      "text/plain": [
       "(24236806, 16965764, 4847361, 2423681, 24236806)"
      ]
     },
     "execution_count": 8,
     "metadata": {},
     "output_type": "execute_result"
    }
   ],
   "source": [
    "original_size = df_train_original.shape[0]\n",
    "train_index_limit = int(original_size * 0.7)\n",
    "test_index_limit = int(original_size * 0.9)\n",
    "\n",
    "df_train = df_train_original[:train_index_limit]\n",
    "df_test = df_train_original[train_index_limit:test_index_limit]\n",
    "df_valid = df_train_original[test_index_limit:]\n",
    "\n",
    "original_size, df_train.shape[0], df_test.shape[0], df_valid.shape[0], (df_train.shape[0] + df_test.shape[0] + df_valid.shape[0]) "
   ]
  },
  {
   "cell_type": "code",
   "execution_count": 9,
   "id": "bdbceca5",
   "metadata": {
    "execution": {
     "iopub.execute_input": "2022-04-23T08:10:36.302116Z",
     "iopub.status.busy": "2022-04-23T08:10:36.301866Z",
     "iopub.status.idle": "2022-04-23T08:16:09.974348Z",
     "shell.execute_reply": "2022-04-23T08:16:09.973323Z"
    },
    "papermill": {
     "duration": 333.688905,
     "end_time": "2022-04-23T08:16:09.976945",
     "exception": false,
     "start_time": "2022-04-23T08:10:36.288040",
     "status": "completed"
    },
    "tags": []
   },
   "outputs": [],
   "source": [
    "df_train.to_csv('train.csv')\n",
    "df_test.to_csv('test.csv')\n",
    "df_valid.to_csv('valid.csv')"
   ]
  }
 ],
 "metadata": {
  "kernelspec": {
   "display_name": "Python 3",
   "language": "python",
   "name": "python3"
  },
  "language_info": {
   "codemirror_mode": {
    "name": "ipython",
    "version": 3
   },
   "file_extension": ".py",
   "mimetype": "text/x-python",
   "name": "python",
   "nbconvert_exporter": "python",
   "pygments_lexer": "ipython3",
   "version": "3.7.12"
  },
  "papermill": {
   "default_parameters": {},
   "duration": 413.546043,
   "end_time": "2022-04-23T08:16:10.611757",
   "environment_variables": {},
   "exception": null,
   "input_path": "__notebook__.ipynb",
   "output_path": "__notebook__.ipynb",
   "parameters": {},
   "start_time": "2022-04-23T08:09:17.065714",
   "version": "2.3.4"
  }
 },
 "nbformat": 4,
 "nbformat_minor": 5
}
